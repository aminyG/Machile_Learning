{
  "cells": [
    {
      "cell_type": "markdown",
      "metadata": {
        "id": "gMTuGoQMZ0qU"
      },
      "source": [
        "# Practical 1: RNN for Sentiment Analysis"
      ]
    },
    {
      "cell_type": "markdown",
      "metadata": {
        "id": "tQEHJo_6Z9mw"
      },
      "source": [
        "### Setup"
      ]
    },
    {
      "cell_type": "code",
      "execution_count": 1,
      "metadata": {
        "id": "BCQVTfuKTrtJ"
      },
      "outputs": [],
      "source": [
        "import numpy as np\n",
        "import tensorflow_datasets as tfds\n",
        "import tensorflow as tf\n",
        "\n",
        "tfds.disable_progress_bar()"
      ]
    },
    {
      "cell_type": "code",
      "execution_count": 2,
      "metadata": {
        "id": "Q3aOT4thaA_q"
      },
      "outputs": [],
      "source": [
        "import matplotlib.pyplot as plt\n",
        "\n",
        "def plot_graphs(history, metric):\n",
        "  plt.plot(history.history[metric])\n",
        "  plt.plot(history.history['val_'+metric], '')\n",
        "  plt.xlabel(\"Epochs\")\n",
        "  plt.ylabel(metric)\n",
        "  plt.legend([metric, 'val_'+metric])"
      ]
    },
    {
      "cell_type": "markdown",
      "metadata": {
        "id": "7GK092pAaXrO"
      },
      "source": [
        "### Input Pipeline Setup\n",
        "The IMDB movie review dataset is a binary classification dataset—all reviews have either positive or negative sentiment."
      ]
    },
    {
      "cell_type": "code",
      "execution_count": 3,
      "metadata": {
        "colab": {
          "base_uri": "https://localhost:8080/"
        },
        "id": "qmhi4Uc0aOIu",
        "outputId": "b88a5bf8-3b14-4755-daee-60a4231db68e"
      },
      "outputs": [
        {
          "output_type": "stream",
          "name": "stdout",
          "text": [
            "Downloading and preparing dataset 80.23 MiB (download: 80.23 MiB, generated: Unknown size, total: 80.23 MiB) to /root/tensorflow_datasets/imdb_reviews/plain_text/1.0.0...\n",
            "Dataset imdb_reviews downloaded and prepared to /root/tensorflow_datasets/imdb_reviews/plain_text/1.0.0. Subsequent calls will reuse this data.\n"
          ]
        },
        {
          "output_type": "execute_result",
          "data": {
            "text/plain": [
              "(TensorSpec(shape=(), dtype=tf.string, name=None),\n",
              " TensorSpec(shape=(), dtype=tf.int64, name=None))"
            ]
          },
          "metadata": {},
          "execution_count": 3
        }
      ],
      "source": [
        "dataset, info = tfds.load('imdb_reviews', with_info=True,\n",
        "                          as_supervised=True)\n",
        "train_dataset, test_dataset = dataset['train'], dataset['test']\n",
        "\n",
        "train_dataset.element_spec"
      ]
    },
    {
      "cell_type": "markdown",
      "metadata": {
        "id": "w1EeZ1R3bHDU"
      },
      "source": [
        "Initially this will return a dataset (text, label pairs)"
      ]
    },
    {
      "cell_type": "code",
      "execution_count": 4,
      "metadata": {
        "colab": {
          "base_uri": "https://localhost:8080/"
        },
        "id": "hPyCEIVLahbM",
        "outputId": "f7dce266-dff3-49db-f0e9-9413da1b83eb"
      },
      "outputs": [
        {
          "output_type": "stream",
          "name": "stdout",
          "text": [
            "text:  b\"This was an absolutely terrible movie. Don't be lured in by Christopher Walken or Michael Ironside. Both are great actors, but this must simply be their worst role in history. Even their great acting could not redeem this movie's ridiculous storyline. This movie is an early nineties US propaganda piece. The most pathetic scenes were those when the Columbian rebels were making their cases for revolutions. Maria Conchita Alonso appeared phony, and her pseudo-love affair with Walken was nothing but a pathetic emotional plug in a movie that was devoid of any real meaning. I am disappointed that there are movies like this, ruining actor's like Christopher Walken's good name. I could barely sit through it.\"\n",
            "label:  0\n"
          ]
        }
      ],
      "source": [
        "for example, label in train_dataset.take(1):\n",
        "  print('text: ', example.numpy())\n",
        "  print('label: ', label.numpy())"
      ]
    },
    {
      "cell_type": "markdown",
      "metadata": {
        "id": "UnbbhZK1bSF1"
      },
      "source": [
        "Next shuffle the data for training and create a collection of these (text, label) pairs"
      ]
    },
    {
      "cell_type": "code",
      "execution_count": 5,
      "metadata": {
        "colab": {
          "base_uri": "https://localhost:8080/"
        },
        "id": "aISPf03cbMr2",
        "outputId": "0a2fc39c-069c-4562-889b-e444ea12dba9"
      },
      "outputs": [
        {
          "output_type": "stream",
          "name": "stdout",
          "text": [
            "texts:  [b'The van trotta movie rosenstrasse is the best movie i have seen in years. i am actually not really interested in films with historical background but with this she won my interest for that time!!<br /><br />the only annoying thing about the movie have been the scenes in new york, and the impression i had of \"trying to be as American as possible\" ... which i think has absolutely failed.<br /><br />the scenes in the back really got to my heart. the German actress katja riemann completely deserved her award. she is one of the most impressing actress i have ever seen. in future i will watch more of her movies. great luck for me that i am a native German speaking =) and only for a year in the us, so as soon as i am back i\\'ll buy some riemann dvds.<br /><br />so to all out there who have not seen this movie yet: WATCH IT!!! i think it would be too long to describe what it is all about yet, especially all the flash backs and switches of times are hard to explain, but simply watcxh it, you will be zesty!!!!!!!'\n",
            " b'This film is about a family trying to come to terms with the death of the mother/wife by moving to Genova, Italy.<br /><br />The plot of \"Genova\" sounds promising, but unfortunately it is empty and without focus. The film only consists of a collection of scenes depicting the daily life of the family, such as swimming, taking piano lessons or cooking eggs. Most of such scenes are redundant and tiresome, completely failing to engage viewers emotionally. The ending is very disappointing as it is not spectacular, moving or emotional. I can safely say that I am disappointed and bored by \"Genova\" The only thing good about the film is the sunny weather and the beauty of Genova. \"Genova\" can serve as an extended tourism advertisement for the city, but not as a film to be enjoyed.'\n",
            " b\"I had the displeasure of watching this movie with my girlfriend, who, like me, is a fan of the first. This movie down right sucked! It lacked the magic of the first. You could actually understand every word the mice said, the animation is crappy, the palace is much much different from the first movie, there's new characters that were never mentioned before and were terrible, luckily the Prince didn't have many lines which kept him from sounding stupid. Basically its like The Lion King 1 1/2 except its different stories all told by the mice. The reason I'm giving this a 2 out of 10 is because the songs not sung by the characters were the most enjoyable.\"]\n",
            "\n",
            "labels:  [1 0 0]\n"
          ]
        }
      ],
      "source": [
        "BUFFER_SIZE = 10000\n",
        "BATCH_SIZE = 64\n",
        "\n",
        "train_dataset = train_dataset.shuffle(BUFFER_SIZE).batch(BATCH_SIZE).prefetch(tf.data.AUTOTUNE)\n",
        "test_dataset = test_dataset.batch(BATCH_SIZE).prefetch(tf.data.AUTOTUNE)\n",
        "\n",
        "for example, label in train_dataset.take(1):\n",
        "  print('texts: ', example.numpy()[:3])\n",
        "  print()\n",
        "  print('labels: ', label.numpy()[:3])\n"
      ]
    },
    {
      "cell_type": "markdown",
      "metadata": {
        "id": "5XYi17mLbZzE"
      },
      "source": [
        "### Create Text Encoder\n",
        "The raw text loaded by tfds needs to be processed before it can be used in the model. The easiest way to process text for training is using a TextVectorization layer. This layer has many capabilities, but in this tutorial it uses the default behavior. Create the layer, and pass the dataset text to the layer's .adapt method:"
      ]
    },
    {
      "cell_type": "code",
      "execution_count": 6,
      "metadata": {
        "id": "NcJxCFhobX8D"
      },
      "outputs": [],
      "source": [
        "VOCAB_SIZE = 1000\n",
        "encoder = tf.keras.layers.TextVectorization(\n",
        "    max_tokens=VOCAB_SIZE)\n",
        "encoder.adapt(train_dataset.map(lambda text, label: text))"
      ]
    },
    {
      "cell_type": "markdown",
      "metadata": {
        "id": "NNEWY3Ybbvqx"
      },
      "source": [
        "The .adapt method sets the layer vocabulary. The first 20 tokens can be viewed with the following code. After padding and unknown tokens, they are sorted by frequency"
      ]
    },
    {
      "cell_type": "code",
      "execution_count": 7,
      "metadata": {
        "colab": {
          "base_uri": "https://localhost:8080/"
        },
        "id": "tP1fwKowbolI",
        "outputId": "fd7831c1-5c1d-45eb-987b-83af5f042fca"
      },
      "outputs": [
        {
          "output_type": "execute_result",
          "data": {
            "text/plain": [
              "array(['', '[UNK]', 'the', 'and', 'a', 'of', 'to', 'is', 'in', 'it', 'i',\n",
              "       'this', 'that', 'br', 'was', 'as', 'for', 'with', 'movie', 'but'],\n",
              "      dtype='<U14')"
            ]
          },
          "metadata": {},
          "execution_count": 7
        }
      ],
      "source": [
        "vocab = np.array(encoder.get_vocabulary())\n",
        "vocab[:20]"
      ]
    },
    {
      "cell_type": "markdown",
      "metadata": {
        "id": "VG9o2V4fb_dN"
      },
      "source": [
        "Once the vocabulary is set, the layer can encode the text into an index. The index tensor is padded 0 to the longest sequence in the batch (unless you set a fixed output_sequence_length)"
      ]
    },
    {
      "cell_type": "code",
      "execution_count": 8,
      "metadata": {
        "colab": {
          "base_uri": "https://localhost:8080/"
        },
        "id": "0i1yIXBxbz0P",
        "outputId": "31267d9f-d72e-4596-ab4a-8aab40ed80ff"
      },
      "outputs": [
        {
          "output_type": "execute_result",
          "data": {
            "text/plain": [
              "array([[ 2,  1,  1, ...,  0,  0,  0],\n",
              "       [11, 20,  7, ...,  0,  0,  0],\n",
              "       [10, 67,  2, ...,  0,  0,  0]])"
            ]
          },
          "metadata": {},
          "execution_count": 8
        }
      ],
      "source": [
        "encoded_example = encoder(example)[:3].numpy()\n",
        "encoded_example"
      ]
    },
    {
      "cell_type": "markdown",
      "metadata": {
        "id": "dqmCXWFwcMQO"
      },
      "source": [
        "With default settings, the process cannot be completely reversed. There are two main reasons for that:\n",
        "\n",
        "- The default value for the preprocessing.TextVectorization standardization argument is \"lower_and_strip_punctuation\".\n",
        "\n",
        "- Limited vocabulary size and lack of character-based fallback resulted in some unknown tokens."
      ]
    },
    {
      "cell_type": "code",
      "execution_count": 9,
      "metadata": {
        "colab": {
          "base_uri": "https://localhost:8080/"
        },
        "id": "zpeRMF9ZcGFP",
        "outputId": "07c88abe-a6d7-4a2a-c21d-ea1cf309dd6f"
      },
      "outputs": [
        {
          "output_type": "stream",
          "name": "stdout",
          "text": [
            "Original:  b'The van trotta movie rosenstrasse is the best movie i have seen in years. i am actually not really interested in films with historical background but with this she won my interest for that time!!<br /><br />the only annoying thing about the movie have been the scenes in new york, and the impression i had of \"trying to be as American as possible\" ... which i think has absolutely failed.<br /><br />the scenes in the back really got to my heart. the German actress katja riemann completely deserved her award. she is one of the most impressing actress i have ever seen. in future i will watch more of her movies. great luck for me that i am a native German speaking =) and only for a year in the us, so as soon as i am back i\\'ll buy some riemann dvds.<br /><br />so to all out there who have not seen this movie yet: WATCH IT!!! i think it would be too long to describe what it is all about yet, especially all the flash backs and switches of times are hard to explain, but simply watcxh it, you will be zesty!!!!!!!'\n",
            "Round-trip:  the [UNK] [UNK] movie [UNK] is the best movie i have seen in years i am actually not really interested in films with [UNK] background but with this she [UNK] my interest for that [UNK] br the only annoying thing about the movie have been the scenes in new york and the [UNK] i had of trying to be as american as possible which i think has absolutely [UNK] br the scenes in the back really got to my heart the [UNK] actress [UNK] [UNK] completely [UNK] her [UNK] she is one of the most [UNK] actress i have ever seen in future i will watch more of her movies great [UNK] for me that i am a [UNK] [UNK] [UNK] and only for a year in the us so as soon as i am back ill buy some [UNK] [UNK] br so to all out there who have not seen this movie yet watch it i think it would be too long to [UNK] what it is all about yet especially all the [UNK] [UNK] and [UNK] of times are hard to [UNK] but simply [UNK] it you will be [UNK]                                                                                                                                                                                                                                                                                                                                                                                                                                                                                                                                                                                                                                                                                                                                                                                                         \n",
            "\n",
            "Original:  b'This film is about a family trying to come to terms with the death of the mother/wife by moving to Genova, Italy.<br /><br />The plot of \"Genova\" sounds promising, but unfortunately it is empty and without focus. The film only consists of a collection of scenes depicting the daily life of the family, such as swimming, taking piano lessons or cooking eggs. Most of such scenes are redundant and tiresome, completely failing to engage viewers emotionally. The ending is very disappointing as it is not spectacular, moving or emotional. I can safely say that I am disappointed and bored by \"Genova\" The only thing good about the film is the sunny weather and the beauty of Genova. \"Genova\" can serve as an extended tourism advertisement for the city, but not as a film to be enjoyed.'\n",
            "Round-trip:  this film is about a family trying to come to [UNK] with the death of the [UNK] by moving to [UNK] [UNK] br the plot of [UNK] sounds [UNK] but unfortunately it is [UNK] and without [UNK] the film only [UNK] of a [UNK] of scenes [UNK] the [UNK] life of the family such as [UNK] taking [UNK] [UNK] or [UNK] [UNK] most of such scenes are [UNK] and [UNK] completely [UNK] to [UNK] viewers [UNK] the ending is very [UNK] as it is not [UNK] moving or emotional i can [UNK] say that i am disappointed and [UNK] by [UNK] the only thing good about the film is the [UNK] [UNK] and the beauty of [UNK] [UNK] can [UNK] as an [UNK] [UNK] [UNK] for the city but not as a film to be enjoyed                                                                                                                                                                                                                                                                                                                                                                                                                                                                                                                                                                                                                                                                                                                                                                                                                                                                 \n",
            "\n",
            "Original:  b\"I had the displeasure of watching this movie with my girlfriend, who, like me, is a fan of the first. This movie down right sucked! It lacked the magic of the first. You could actually understand every word the mice said, the animation is crappy, the palace is much much different from the first movie, there's new characters that were never mentioned before and were terrible, luckily the Prince didn't have many lines which kept him from sounding stupid. Basically its like The Lion King 1 1/2 except its different stories all told by the mice. The reason I'm giving this a 2 out of 10 is because the songs not sung by the characters were the most enjoyable.\"\n",
            "Round-trip:  i had the [UNK] of watching this movie with my [UNK] who like me is a fan of the first this movie down right [UNK] it [UNK] the [UNK] of the first you could actually understand every word the [UNK] said the animation is [UNK] the [UNK] is much much different from the first movie theres new characters that were never [UNK] before and were terrible [UNK] the [UNK] didnt have many lines which kept him from [UNK] stupid basically its like the [UNK] king 1 [UNK] except its different stories all told by the [UNK] the reason im giving this a 2 out of 10 is because the songs not [UNK] by the characters were the most enjoyable                                                                                                                                                                                                                                                                                                                                                                                                                                                                                                                                                                                                                                                                                                                                                                                                                                                                                  \n",
            "\n"
          ]
        }
      ],
      "source": [
        "for n in range(3):\n",
        "  print(\"Original: \", example[n].numpy())\n",
        "  print(\"Round-trip: \", \" \".join(vocab[encoded_example[n]]))\n",
        "  print()"
      ]
    },
    {
      "cell_type": "markdown",
      "metadata": {
        "id": "Eb8oTySJcca-"
      },
      "source": [
        "### Create Model"
      ]
    },
    {
      "cell_type": "code",
      "execution_count": 10,
      "metadata": {
        "id": "eRfq3_s9cQZw"
      },
      "outputs": [],
      "source": [
        "model = tf.keras.Sequential([\n",
        "    encoder,\n",
        "    tf.keras.layers.Embedding(\n",
        "        input_dim=len(encoder.get_vocabulary()),\n",
        "        output_dim=64,\n",
        "        # Use masking to handle the variable sequence lengths\n",
        "        mask_zero=True),\n",
        "    tf.keras.layers.Bidirectional(tf.keras.layers.LSTM(64)),\n",
        "    tf.keras.layers.Dense(64, activation='relu'),\n",
        "    tf.keras.layers.Dense(1)\n",
        "])"
      ]
    },
    {
      "cell_type": "code",
      "execution_count": 11,
      "metadata": {
        "colab": {
          "base_uri": "https://localhost:8080/"
        },
        "id": "si_lfXErchFX",
        "outputId": "d97c028e-61d7-453e-c2db-dac914d85f9c"
      },
      "outputs": [
        {
          "output_type": "stream",
          "name": "stdout",
          "text": [
            "[False, True, True, True, True]\n"
          ]
        }
      ],
      "source": [
        "print([layer.supports_masking for layer in model.layers])"
      ]
    },
    {
      "cell_type": "markdown",
      "metadata": {
        "id": "Z4tukEPHcuta"
      },
      "source": [
        "To ensure that it works as expected, evaluate a sentence twice. First, one sentence so there is no padding to hide"
      ]
    },
    {
      "cell_type": "code",
      "execution_count": 12,
      "metadata": {
        "colab": {
          "base_uri": "https://localhost:8080/"
        },
        "id": "QFI6zBGwcj7l",
        "outputId": "e81f8126-5427-49be-ff08-25803f7582bf"
      },
      "outputs": [
        {
          "output_type": "stream",
          "name": "stdout",
          "text": [
            "1/1 [==============================] - 8s 8s/step\n",
            "[-0.02465501]\n"
          ]
        }
      ],
      "source": [
        "# predict on a sample text without padding.\n",
        "\n",
        "sample_text = ('The movie was cool. The animation and the graphics '\n",
        "               'were out of this world. I would recommend this movie.')\n",
        "predictions = model.predict(np.array([sample_text]))\n",
        "print(predictions[0])"
      ]
    },
    {
      "cell_type": "markdown",
      "metadata": {
        "id": "vlS6vF7SdELL"
      },
      "source": [
        "Now, evaluate again in batches with longer sentences. The results should be the same"
      ]
    },
    {
      "cell_type": "code",
      "execution_count": 13,
      "metadata": {
        "colab": {
          "base_uri": "https://localhost:8080/"
        },
        "id": "u9zIsx2QcxWO",
        "outputId": "e5917a15-6adc-4903-b8aa-2d325e42d5b4"
      },
      "outputs": [
        {
          "output_type": "stream",
          "name": "stdout",
          "text": [
            "1/1 [==============================] - 0s 64ms/step\n",
            "[-0.02465501]\n"
          ]
        }
      ],
      "source": [
        "# predict on a sample text with padding\n",
        "\n",
        "padding = \"the \" * 2000\n",
        "predictions = model.predict(np.array([sample_text, padding]))\n",
        "print(predictions[0])"
      ]
    },
    {
      "cell_type": "markdown",
      "metadata": {
        "id": "iXkfy06ndM8g"
      },
      "source": [
        "Compile the Keras model to configure the training process"
      ]
    },
    {
      "cell_type": "code",
      "execution_count": 14,
      "metadata": {
        "id": "QlBkZgTOdJA5"
      },
      "outputs": [],
      "source": [
        "model.compile(loss=tf.keras.losses.BinaryCrossentropy(from_logits=True),\n",
        "              optimizer=tf.keras.optimizers.Adam(1e-4),\n",
        "              metrics=['accuracy'])"
      ]
    },
    {
      "cell_type": "markdown",
      "metadata": {
        "id": "huG8iGD7dUAU"
      },
      "source": [
        "### Train Model"
      ]
    },
    {
      "cell_type": "code",
      "execution_count": 15,
      "metadata": {
        "colab": {
          "base_uri": "https://localhost:8080/"
        },
        "id": "EJtZPhmDdRGU",
        "outputId": "10e347cc-8ec4-4679-c1e1-df8f33ff079f"
      },
      "outputs": [
        {
          "output_type": "stream",
          "name": "stdout",
          "text": [
            "Epoch 1/10\n",
            "391/391 [==============================] - 52s 107ms/step - loss: 0.6627 - accuracy: 0.5424 - val_loss: 0.5332 - val_accuracy: 0.7469\n",
            "Epoch 2/10\n",
            "391/391 [==============================] - 24s 62ms/step - loss: 0.4166 - accuracy: 0.8096 - val_loss: 0.3645 - val_accuracy: 0.8307\n",
            "Epoch 3/10\n",
            "391/391 [==============================] - 25s 64ms/step - loss: 0.3415 - accuracy: 0.8512 - val_loss: 0.3445 - val_accuracy: 0.8542\n",
            "Epoch 4/10\n",
            "391/391 [==============================] - 26s 67ms/step - loss: 0.3243 - accuracy: 0.8596 - val_loss: 0.3348 - val_accuracy: 0.8510\n",
            "Epoch 5/10\n",
            "391/391 [==============================] - 26s 65ms/step - loss: 0.3123 - accuracy: 0.8656 - val_loss: 0.3275 - val_accuracy: 0.8641\n",
            "Epoch 6/10\n",
            "391/391 [==============================] - 24s 62ms/step - loss: 0.3077 - accuracy: 0.8674 - val_loss: 0.3282 - val_accuracy: 0.8547\n",
            "Epoch 7/10\n",
            "391/391 [==============================] - 25s 63ms/step - loss: 0.3051 - accuracy: 0.8691 - val_loss: 0.3221 - val_accuracy: 0.8552\n",
            "Epoch 8/10\n",
            "391/391 [==============================] - 26s 65ms/step - loss: 0.3041 - accuracy: 0.8692 - val_loss: 0.3310 - val_accuracy: 0.8589\n",
            "Epoch 9/10\n",
            "391/391 [==============================] - 24s 62ms/step - loss: 0.3020 - accuracy: 0.8712 - val_loss: 0.3425 - val_accuracy: 0.8391\n",
            "Epoch 10/10\n",
            "391/391 [==============================] - 26s 65ms/step - loss: 0.2988 - accuracy: 0.8718 - val_loss: 0.3261 - val_accuracy: 0.8620\n"
          ]
        }
      ],
      "source": [
        "history = model.fit(train_dataset, epochs=10, validation_data=test_dataset, validation_steps=30)"
      ]
    },
    {
      "cell_type": "code",
      "execution_count": 16,
      "metadata": {
        "id": "XPspHbexdWc2",
        "colab": {
          "base_uri": "https://localhost:8080/"
        },
        "outputId": "e4d8dc90-746b-43ce-e765-e90a850c5e5e"
      },
      "outputs": [
        {
          "output_type": "stream",
          "name": "stdout",
          "text": [
            "391/391 [==============================] - 11s 29ms/step - loss: 0.3204 - accuracy: 0.8606\n",
            "Test Loss: 0.32038626074790955\n",
            "Test Accuracy: 0.8605599999427795\n"
          ]
        }
      ],
      "source": [
        "test_loss, test_acc = model.evaluate(test_dataset)\n",
        "\n",
        "print('Test Loss:', test_loss)\n",
        "print('Test Accuracy:', test_acc)"
      ]
    },
    {
      "cell_type": "code",
      "source": [
        "plt.figure(figsize=(16, 8))\n",
        "plt.subplot(1, 2, 1)\n",
        "plot_graphs(history, 'accuracy')\n",
        "plt.ylim(None, 1)\n",
        "plt.subplot(1, 2, 2)\n",
        "plot_graphs(history, 'loss')\n",
        "plt.ylim(0, None)"
      ],
      "metadata": {
        "id": "DBpG-qg-iv3l",
        "colab": {
          "base_uri": "https://localhost:8080/",
          "height": 718
        },
        "outputId": "b2f500e1-f278-4701-a05e-4e8b0d2b84d3"
      },
      "execution_count": 17,
      "outputs": [
        {
          "output_type": "execute_result",
          "data": {
            "text/plain": [
              "(0.0, 0.6808572515845299)"
            ]
          },
          "metadata": {},
          "execution_count": 17
        },
        {
          "output_type": "display_data",
          "data": {
            "text/plain": [
              "<Figure size 1600x800 with 2 Axes>"
            ],
            "image/png": "[encoded data removed]"
          },
          "metadata": {}
        }
      ]
    },
    {
      "cell_type": "markdown",
      "source": [
        "Run predictions on new sentences:\n",
        "\n",
        "If the prediction is >= 0.0 it is positive, otherwise it is negative"
      ],
      "metadata": {
        "id": "vhZtWvs3jRkK"
      }
    },
    {
      "cell_type": "code",
      "source": [
        "sample_text = ('The movie was cool. The animation and the graphics '\n",
        "                'were out of this world. I would recommend this movie.')\n",
        "predictions = model.predict(np.array([sample_text]))\n",
        "print(predictions[0])"
      ],
      "metadata": {
        "id": "IHFrdvh6jVUQ",
        "colab": {
          "base_uri": "https://localhost:8080/"
        },
        "outputId": "156df1fe-b58e-4654-a547-ac3b2e519d84"
      },
      "execution_count": 18,
      "outputs": [
        {
          "output_type": "stream",
          "name": "stdout",
          "text": [
            "1/1 [==============================] - 3s 3s/step\n",
            "[0.53240705]\n"
          ]
        }
      ]
    },
    {
      "cell_type": "markdown",
      "source": [
        "### Stack Two or More LSTM Layers\n",
        "\n",
        "The interesting thing about using RNN with return_sequences=True is that the output still has 3 axes, just like the input, so it can be passed to another RNN layer, like this"
      ],
      "metadata": {
        "id": "r3LGnwLXjIKR"
      }
    },
    {
      "cell_type": "code",
      "source": [
        "model = tf.keras.Sequential([\n",
        "    encoder,\n",
        "    tf.keras.layers.Embedding(len(encoder.get_vocabulary()), 64, mask_zero=True),\n",
        "    tf.keras.layers.Bidirectional(tf.keras.layers.LSTM(64, return_sequences=True)),\n",
        "    tf.keras.layers.Bidirectional(tf.keras.layers.LSTM(32)),\n",
        "    tf.keras.layers.Dense(64, activation='relu'),\n",
        "    tf.keras.layers.Dropout(0.5),\n",
        "    tf.keras.layers.Dense(1)\n",
        "])"
      ],
      "metadata": {
        "id": "X4HupsC5i185"
      },
      "execution_count": 19,
      "outputs": []
    },
    {
      "cell_type": "code",
      "source": [
        "model.compile(loss=tf.keras.losses.BinaryCrossentropy(from_logits=True),\n",
        "              optimizer=tf.keras.optimizers.Adam(1e-4),\n",
        "              metrics=['accuracy'])"
      ],
      "metadata": {
        "id": "Quides05jlXH"
      },
      "execution_count": 20,
      "outputs": []
    },
    {
      "cell_type": "code",
      "source": [
        "history = model.fit(train_dataset, epochs=10,\n",
        "                    validation_data=test_dataset,\n",
        "                    validation_steps=30)"
      ],
      "metadata": {
        "id": "Dx0mzASIjrVl",
        "colab": {
          "base_uri": "https://localhost:8080/"
        },
        "outputId": "5147c3ea-d4c3-4115-af15-b1580092bb8f"
      },
      "execution_count": 21,
      "outputs": [
        {
          "output_type": "stream",
          "name": "stdout",
          "text": [
            "Epoch 1/10\n",
            "391/391 [==============================] - 77s 153ms/step - loss: 0.6388 - accuracy: 0.5636 - val_loss: 0.4563 - val_accuracy: 0.7979\n",
            "Epoch 2/10\n",
            "391/391 [==============================] - 46s 116ms/step - loss: 0.4011 - accuracy: 0.8231 - val_loss: 0.3598 - val_accuracy: 0.8453\n",
            "Epoch 3/10\n",
            "391/391 [==============================] - 46s 117ms/step - loss: 0.3436 - accuracy: 0.8512 - val_loss: 0.3419 - val_accuracy: 0.8505\n",
            "Epoch 4/10\n",
            "391/391 [==============================] - 46s 118ms/step - loss: 0.3198 - accuracy: 0.8637 - val_loss: 0.3266 - val_accuracy: 0.8526\n",
            "Epoch 5/10\n",
            "391/391 [==============================] - 47s 119ms/step - loss: 0.3109 - accuracy: 0.8653 - val_loss: 0.3254 - val_accuracy: 0.8495\n",
            "Epoch 6/10\n",
            "391/391 [==============================] - 47s 120ms/step - loss: 0.3055 - accuracy: 0.8686 - val_loss: 0.3239 - val_accuracy: 0.8583\n",
            "Epoch 7/10\n",
            "391/391 [==============================] - 50s 128ms/step - loss: 0.3020 - accuracy: 0.8726 - val_loss: 0.3253 - val_accuracy: 0.8474\n",
            "Epoch 8/10\n",
            "391/391 [==============================] - 49s 126ms/step - loss: 0.2970 - accuracy: 0.8724 - val_loss: 0.3269 - val_accuracy: 0.8599\n",
            "Epoch 9/10\n",
            "391/391 [==============================] - 49s 126ms/step - loss: 0.2929 - accuracy: 0.8758 - val_loss: 0.3210 - val_accuracy: 0.8474\n",
            "Epoch 10/10\n",
            "391/391 [==============================] - 49s 124ms/step - loss: 0.2939 - accuracy: 0.8758 - val_loss: 0.3262 - val_accuracy: 0.8599\n"
          ]
        }
      ]
    },
    {
      "cell_type": "code",
      "source": [
        "test_loss, test_acc = model.evaluate(test_dataset)\n",
        "\n",
        "print('Test Loss:', test_loss)\n",
        "print('Test Accuracy:', test_acc)"
      ],
      "metadata": {
        "id": "7CauOwfMjtHE",
        "colab": {
          "base_uri": "https://localhost:8080/"
        },
        "outputId": "7245daa3-740e-4c51-c837-74e340d5435a"
      },
      "execution_count": 22,
      "outputs": [
        {
          "output_type": "stream",
          "name": "stdout",
          "text": [
            "391/391 [==============================] - 19s 49ms/step - loss: 0.3230 - accuracy: 0.8623\n",
            "Test Loss: 0.32302430272102356\n",
            "Test Accuracy: 0.862280011177063\n"
          ]
        }
      ]
    },
    {
      "cell_type": "code",
      "source": [
        "# predict on a sample text without padding.\n",
        "\n",
        "sample_text = ('The movie was not good. The animation and the graphics '\n",
        "                'were terrible. I would not recommend this movie.')\n",
        "predictions = model.predict(np.array([sample_text]))\n",
        "print(predictions)"
      ],
      "metadata": {
        "id": "6OegCub2mZGX",
        "colab": {
          "base_uri": "https://localhost:8080/"
        },
        "outputId": "cb73e239-b57d-45e8-ac5c-b862847b5dfb"
      },
      "execution_count": 23,
      "outputs": [
        {
          "output_type": "stream",
          "name": "stdout",
          "text": [
            "1/1 [==============================] - 6s 6s/step\n",
            "[[-1.6027161]]\n"
          ]
        }
      ]
    },
    {
      "cell_type": "code",
      "source": [
        "plt.figure(figsize=(16, 6))\n",
        "plt.subplot(1, 2, 1)\n",
        "plot_graphs(history, 'accuracy')\n",
        "plt.subplot(1, 2, 2)\n",
        "plot_graphs(history, 'loss')"
      ],
      "metadata": {
        "id": "fpdtEvONmkcM",
        "colab": {
          "base_uri": "https://localhost:8080/",
          "height": 542
        },
        "outputId": "bf288387-e62e-4bb7-972c-81a6c115ed68"
      },
      "execution_count": 24,
      "outputs": [
        {
          "output_type": "display_data",
          "data": {
            "text/plain": [
              "<Figure size 1600x600 with 2 Axes>"
            ],
            "image/png": "[encoded data removed]"
          },
          "metadata": {}
        }
      ]
    }
  ],
  "metadata": {
    "colab": {
      "provenance": [],
      "gpuType": "T4"
    },
    "kernelspec": {
      "display_name": "Python 3",
      "name": "python3"
    },
    "language_info": {
      "name": "python"
    },
    "accelerator": "GPU"
  },
  "nbformat": 4,
  "nbformat_minor": 0
}