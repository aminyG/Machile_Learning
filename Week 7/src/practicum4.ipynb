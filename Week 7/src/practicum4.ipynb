{
 "cells": [
  {
   "cell_type": "code",
   "execution_count": 1,
   "metadata": {},
   "outputs": [
    {
     "name": "stdout",
     "output_type": "stream",
     "text": [
      "Requirement already satisfied: minisom in c:\\users\\lenovo\\anaconda3\\lib\\site-packages (2.3.1)\n",
      "Note: you may need to restart the kernel to use updated packages.\n"
     ]
    }
   ],
   "source": [
    "pip install minisom"
   ]
  },
  {
   "cell_type": "code",
   "execution_count": 2,
   "metadata": {},
   "outputs": [
    {
     "name": "stderr",
     "output_type": "stream",
     "text": [
      "c:\\Users\\Lenovo\\anaconda3\\Lib\\site-packages\\paramiko\\transport.py:219: CryptographyDeprecationWarning: Blowfish has been deprecated\n",
      "  \"class\": algorithms.Blowfish,\n"
     ]
    }
   ],
   "source": [
    "import numpy as np\n",
    "import matplotlib.pyplot as plt\n",
    "from skimage import io"
   ]
  },
  {
   "cell_type": "code",
   "execution_count": 3,
   "metadata": {},
   "outputs": [],
   "source": [
    "# Function to initialize SOM weights\n",
    "def initialize_weights(input_shape, output_shape):\n",
    "    return np.random.rand(output_shape[0], output_shape[1], input_shape[2])"
   ]
  },
  {
   "cell_type": "code",
   "execution_count": 4,
   "metadata": {},
   "outputs": [],
   "source": [
    "# Function to calculate the distance between the input vector and the SOM weights\n",
    "def calculate_distance(input_vector, weights):\n",
    "    return np.linalg.norm(input_vector - weights, axis=2)"
   ]
  },
  {
   "cell_type": "code",
   "execution_count": 5,
   "metadata": {},
   "outputs": [],
   "source": [
    "# Function to find the winning unit index (the unit with the closest weight)\n",
    "def find_winner_unit_in_image(input_vector, weights):\n",
    "    distances = calculate_distance(input_vector, weights)\n",
    "    return np.unravel_index(np.argmin(distances), distances.shape)"
   ]
  },
  {
   "cell_type": "code",
   "execution_count": 6,
   "metadata": {},
   "outputs": [],
   "source": [
    "# Function to update SOM weights\n",
    "def update_weights(input_vector, weights, winner, learning_rate, neighborhood_radius):\n",
    "    distances = np.linalg.norm(np.indices(weights.shape[:2]).T - np.array(winner).reshape(1, -1), axis=2)\n",
    "    influence = np.exp(-distances / (2 * neighborhood_radius**2))\n",
    "    weights += learning_rate * influence[:, :, np.newaxis] * (input_vector - weights)"
   ]
  },
  {
   "cell_type": "code",
   "execution_count": 7,
   "metadata": {},
   "outputs": [],
   "source": [
    "# Function to train SOM\n",
    "def train_som(image, num_epochs, initial_learning_rate, initial_neighborhood_radius):\n",
    "     input_shape = image. shape\n",
    "     som_shape = (10, 10, input_shape[2]) # SOM size according to the number of color channels\n",
    "     weights = initialize_weights(input_shape, som_shape)\n",
    "\n",
    "     for epochs in range(num_epochs):\n",
    "         # Update learning parameters and neighbor radius\n",
    "         learning_rate = initial_learning_rate * np.exp(-epoch / num_epochs)\n",
    "         neighborhood_radius = initial_neighborhood_radius * np.exp(-epoch / num_epochs)\n",
    "         # SOM processing\n",
    "         for i in range(input_shape[0]):\n",
    "             for j in range(input_shape[1]):\n",
    "                 input_vector = image[i, j, :]\n",
    "                 winner = find_winner_unit_in_image(input_vector, weights)\n",
    "                 update_weights(input_vector, weights, winner, learning_rate, neighborhood_radius)\n",
    "\n",
    "     return weights"
   ]
  },
  {
   "cell_type": "code",
   "execution_count": 8,
   "metadata": {},
   "outputs": [],
   "source": [
    "# Load Lenna image (you can replace this with another image if needed)\n",
    "Lenna_path = \"../img/Lenna.png\"\n",
    "Lenna = io.imread(Lenna_path) / 255.0 # Normalize pixel intensity to range [0, 1]"
   ]
  },
  {
   "cell_type": "code",
   "execution_count": 9,
   "metadata": {},
   "outputs": [
    {
     "ename": "NameError",
     "evalue": "name 'epoch' is not defined",
     "output_type": "error",
     "traceback": [
      "\u001b[1;31m---------------------------------------------------------------------------\u001b[0m",
      "\u001b[1;31mNameError\u001b[0m                                 Traceback (most recent call last)",
      "\u001b[1;32mc:\\Users\\Lenovo\\Downloads\\2141720096-machinelearning-2023-master\\2141720096-machinelearning-2023-master\\Week 7\\src\\praktikum4.ipynb Cell 9\u001b[0m line \u001b[0;36m5\n\u001b[0;32m      <a href='vscode-notebook-cell:/c%3A/Users/Lenovo/Downloads/2141720096-machinelearning-2023-master/2141720096-machinelearning-2023-master/Week%207/src/praktikum4.ipynb#X11sZmlsZQ%3D%3D?line=2'>3</a>\u001b[0m initial_learning_rate \u001b[39m=\u001b[39m \u001b[39m0.1\u001b[39m\n\u001b[0;32m      <a href='vscode-notebook-cell:/c%3A/Users/Lenovo/Downloads/2141720096-machinelearning-2023-master/2141720096-machinelearning-2023-master/Week%207/src/praktikum4.ipynb#X11sZmlsZQ%3D%3D?line=3'>4</a>\u001b[0m initial_neighborhood_radius \u001b[39m=\u001b[39m \u001b[39m5\u001b[39m\n\u001b[1;32m----> <a href='vscode-notebook-cell:/c%3A/Users/Lenovo/Downloads/2141720096-machinelearning-2023-master/2141720096-machinelearning-2023-master/Week%207/src/praktikum4.ipynb#X11sZmlsZQ%3D%3D?line=4'>5</a>\u001b[0m trained_weights \u001b[39m=\u001b[39m train_som(Lenna, num_epochs, initial_learning_rate, initial_neighborhood_radius)\n",
      "\u001b[1;32mc:\\Users\\Lenovo\\Downloads\\2141720096-machinelearning-2023-master\\2141720096-machinelearning-2023-master\\Week 7\\src\\praktikum4.ipynb Cell 9\u001b[0m line \u001b[0;36m9\n\u001b[0;32m      <a href='vscode-notebook-cell:/c%3A/Users/Lenovo/Downloads/2141720096-machinelearning-2023-master/2141720096-machinelearning-2023-master/Week%207/src/praktikum4.ipynb#X11sZmlsZQ%3D%3D?line=4'>5</a>\u001b[0m weights \u001b[39m=\u001b[39m initialize_weights(input_shape, som_shape)\n\u001b[0;32m      <a href='vscode-notebook-cell:/c%3A/Users/Lenovo/Downloads/2141720096-machinelearning-2023-master/2141720096-machinelearning-2023-master/Week%207/src/praktikum4.ipynb#X11sZmlsZQ%3D%3D?line=6'>7</a>\u001b[0m \u001b[39mfor\u001b[39;00m epochs \u001b[39min\u001b[39;00m \u001b[39mrange\u001b[39m(num_epochs):\n\u001b[0;32m      <a href='vscode-notebook-cell:/c%3A/Users/Lenovo/Downloads/2141720096-machinelearning-2023-master/2141720096-machinelearning-2023-master/Week%207/src/praktikum4.ipynb#X11sZmlsZQ%3D%3D?line=7'>8</a>\u001b[0m     \u001b[39m# Update learning parameters and neighbor radius\u001b[39;00m\n\u001b[1;32m----> <a href='vscode-notebook-cell:/c%3A/Users/Lenovo/Downloads/2141720096-machinelearning-2023-master/2141720096-machinelearning-2023-master/Week%207/src/praktikum4.ipynb#X11sZmlsZQ%3D%3D?line=8'>9</a>\u001b[0m     learning_rate \u001b[39m=\u001b[39m initial_learning_rate \u001b[39m*\u001b[39m np\u001b[39m.\u001b[39mexp(\u001b[39m-\u001b[39mepoch \u001b[39m/\u001b[39m num_epochs)\n\u001b[0;32m     <a href='vscode-notebook-cell:/c%3A/Users/Lenovo/Downloads/2141720096-machinelearning-2023-master/2141720096-machinelearning-2023-master/Week%207/src/praktikum4.ipynb#X11sZmlsZQ%3D%3D?line=9'>10</a>\u001b[0m     neighborhood_radius \u001b[39m=\u001b[39m initial_neighborhood_radius \u001b[39m*\u001b[39m np\u001b[39m.\u001b[39mexp(\u001b[39m-\u001b[39mepoch \u001b[39m/\u001b[39m num_epochs)\n\u001b[0;32m     <a href='vscode-notebook-cell:/c%3A/Users/Lenovo/Downloads/2141720096-machinelearning-2023-master/2141720096-machinelearning-2023-master/Week%207/src/praktikum4.ipynb#X11sZmlsZQ%3D%3D?line=10'>11</a>\u001b[0m     \u001b[39m# SOM processing\u001b[39;00m\n",
      "\u001b[1;31mNameError\u001b[0m: name 'epoch' is not defined"
     ]
    }
   ],
   "source": [
    "# SOM Training\n",
    "num_epochs = 100\n",
    "initial_learning_rate = 0.1\n",
    "initial_neighborhood_radius = 5\n",
    "trained_weights = train_som(Lenna, num_epochs, initial_learning_rate, initial_neighborhood_radius)"
   ]
  },
  {
   "cell_type": "code",
   "execution_count": null,
   "metadata": {},
   "outputs": [
    {
     "data": {
      "image/png": "[encoded data removed]",
      "text/plain": [
       "<Figure size 432x288 with 1 Axes>"
      ]
     },
     "metadata": {
      "needs_background": "light"
     },
     "output_type": "display_data"
    }
   ],
   "source": [
    "# Visualization of SOM weights\n",
    "plt.imshow(trained_weights)\n",
    "plt.title('Trained SOM Weights for Lena')\n",
    "plt.show()"
   ]
  }
 ],
 "metadata": {
  "kernelspec": {
   "display_name": "base",
   "language": "python",
   "name": "python3"
  },
  "language_info": {
   "codemirror_mode": {
    "name": "ipython",
    "version": 3
   },
   "file_extension": ".py",
   "mimetype": "text/x-python",
   "name": "python",
   "nbconvert_exporter": "python",
   "pygments_lexer": "ipython3",
   "version": "3.11.4"
  }
 },
 "nbformat": 4,
 "nbformat_minor": 2
}
