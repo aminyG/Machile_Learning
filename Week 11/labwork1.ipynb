{
  "cells": [
    {
      "cell_type": "markdown",
      "metadata": {
        "id": "FClilAHVf0Cs"
      },
      "source": [
        "# Lab Work 1 : Cats and Dogs Classification"
      ]
    },
    {
      "cell_type": "code",
      "execution_count": 4,
      "metadata": {
        "colab": {
          "base_uri": "https://localhost:8080/"
        },
        "id": "HJKPd7U6gzh2",
        "outputId": "a8b24e13-a3a2-450b-d8b4-cd12f73e3bf8"
      },
      "outputs": [
        {
          "output_type": "stream",
          "name": "stdout",
          "text": [
            "Drive already mounted at /content/drive; to attempt to forcibly remount, call drive.mount(\"/content/drive\", force_remount=True).\n"
          ]
        }
      ],
      "source": [
        "from google.colab import drive\n",
        "drive.mount('/content/drive')"
      ]
    },
    {
      "cell_type": "markdown",
      "metadata": {
        "id": "vxyd5jaYgXA1"
      },
      "source": [
        "### Step 1 - Import Library"
      ]
    },
    {
      "cell_type": "code",
      "execution_count": 5,
      "metadata": {
        "id": "WtVVNm7nx6Yy"
      },
      "outputs": [],
      "source": [
        "import tensorflow as tf\n",
        "from keras.preprocessing.image import ImageDataGenerator"
      ]
    },
    {
      "cell_type": "markdown",
      "metadata": {
        "id": "VIDQK7JUgd3c"
      },
      "source": [
        "### Step 2 - Pre Processing"
      ]
    },
    {
      "cell_type": "markdown",
      "metadata": {
        "id": "wv9m8w5CghXx"
      },
      "source": [
        "* Step 2.1. Training Data Pre Processing\n",
        "\n"
      ]
    },
    {
      "cell_type": "code",
      "execution_count": 6,
      "metadata": {
        "colab": {
          "base_uri": "https://localhost:8080/"
        },
        "id": "wLFwSa8fgbQn",
        "outputId": "dcdd6e66-d857-46c8-d7f1-fc301ad5ee1a"
      },
      "outputs": [
        {
          "output_type": "stream",
          "name": "stdout",
          "text": [
            "Found 8000 images belonging to 2 classes.\n"
          ]
        }
      ],
      "source": [
        "train_datagen = ImageDataGenerator(rescale = 1./255,\n",
        "                                   shear_range = 0.2,\n",
        "                                   zoom_range = 0.2,\n",
        "                                   horizontal_flip = True)\n",
        "training_set = train_datagen.flow_from_directory('/content/drive/MyDrive/dataset/dataset/training_set',\n",
        "                                                 target_size = (64, 64),\n",
        "                                                 batch_size = 32,\n",
        "                                                 class_mode = 'binary')"
      ]
    },
    {
      "cell_type": "markdown",
      "metadata": {
        "id": "pfAnjkjVhWgE"
      },
      "source": [
        "* Step 2.2. Testing Data Pre Processing"
      ]
    },
    {
      "cell_type": "code",
      "execution_count": 7,
      "metadata": {
        "colab": {
          "base_uri": "https://localhost:8080/"
        },
        "id": "d5KWBKtShO57",
        "outputId": "2036e1d5-0f00-440d-b7e5-fda93116ab90"
      },
      "outputs": [
        {
          "output_type": "stream",
          "name": "stdout",
          "text": [
            "Found 2000 images belonging to 2 classes.\n"
          ]
        }
      ],
      "source": [
        "test_datagen = ImageDataGenerator(rescale = 1./255)\n",
        "test_set = test_datagen.flow_from_directory('/content/drive/MyDrive/dataset/dataset/test_set',\n",
        "                                            target_size = (64, 64),\n",
        "                                            batch_size = 32,\n",
        "                                            class_mode = 'binary')"
      ]
    },
    {
      "cell_type": "markdown",
      "metadata": {
        "id": "A0AzTUEGh6yF"
      },
      "source": [
        "### Step 3 - Build CNN Mode"
      ]
    },
    {
      "cell_type": "markdown",
      "metadata": {
        "id": "_ToXCLIJh98q"
      },
      "source": [
        "* Step 3.1. - CNN Model Initialization"
      ]
    },
    {
      "cell_type": "code",
      "execution_count": 8,
      "metadata": {
        "id": "UwDC7DMlhiMo"
      },
      "outputs": [],
      "source": [
        "cnn = tf.keras.models.Sequential()"
      ]
    },
    {
      "cell_type": "markdown",
      "metadata": {
        "id": "OF7XNtgSjTmI"
      },
      "source": [
        "* Step 3.2. - Add 1st Convolutional Layer"
      ]
    },
    {
      "cell_type": "code",
      "execution_count": 9,
      "metadata": {
        "id": "z56iPJlCi_hi"
      },
      "outputs": [],
      "source": [
        "cnn.add(tf.keras.layers.Conv2D(filters=32, kernel_size=3, activation='relu', input_shape=[64, 64, 3]))"
      ]
    },
    {
      "cell_type": "markdown",
      "metadata": {
        "id": "wI2D1q7OkBuo"
      },
      "source": [
        "* Step 3.3. - Add 1st Pooling Layer"
      ]
    },
    {
      "cell_type": "code",
      "execution_count": 10,
      "metadata": {
        "id": "EXGnAtzwj_rb"
      },
      "outputs": [],
      "source": [
        "cnn.add(tf.keras.layers.MaxPool2D(pool_size=2, strides=2))"
      ]
    },
    {
      "cell_type": "markdown",
      "source": [
        "* Step 3.4. - Add 2nd Convolutional Layer and Pooling Layer"
      ],
      "metadata": {
        "id": "42apT-UBycnQ"
      }
    },
    {
      "cell_type": "code",
      "source": [
        "cnn.add(tf.keras.layers.Conv2D(filters=32, kernel_size=3, activation='relu'))\n",
        "cnn.add(tf.keras.layers.MaxPool2D(pool_size=2, strides=2))"
      ],
      "metadata": {
        "id": "O3wzQ0ErybWC"
      },
      "execution_count": 11,
      "outputs": []
    },
    {
      "cell_type": "markdown",
      "metadata": {
        "id": "bDs2qB4NkI0R"
      },
      "source": [
        "* Step 3.5. - Flattening"
      ]
    },
    {
      "cell_type": "code",
      "execution_count": 12,
      "metadata": {
        "id": "mCUEjfG8kHzW"
      },
      "outputs": [],
      "source": [
        "cnn.add(tf.keras.layers.Flatten())"
      ]
    },
    {
      "cell_type": "markdown",
      "metadata": {
        "id": "hDTnyumHkf1W"
      },
      "source": [
        "* Step 3.6. - Add Fully Connected Layer (Input and 1st Hidden Layer)"
      ]
    },
    {
      "cell_type": "code",
      "execution_count": 13,
      "metadata": {
        "id": "L13USK5-kP0E"
      },
      "outputs": [],
      "source": [
        "cnn.add(tf.keras.layers.Dense(units=128, activation='relu'))"
      ]
    },
    {
      "cell_type": "markdown",
      "source": [
        "* Step 3.7. Add Fully Connected Layer (The Output Layer)"
      ],
      "metadata": {
        "id": "sMmBy6oSyFgj"
      }
    },
    {
      "cell_type": "code",
      "source": [
        "cnn.add(tf.keras.layers.Dense(units=1, activation='sigmoid'))"
      ],
      "metadata": {
        "id": "62qdmoQnyBvG"
      },
      "execution_count": 14,
      "outputs": []
    },
    {
      "cell_type": "markdown",
      "metadata": {
        "id": "VyKYCFSmk5id"
      },
      "source": [
        "* Step 3.8. - Compile CNN Model"
      ]
    },
    {
      "cell_type": "code",
      "execution_count": 15,
      "metadata": {
        "id": "TO2Lv8WRkpfM"
      },
      "outputs": [],
      "source": [
        "cnn.compile(optimizer = 'adam', loss = 'binary_crossentropy', metrics = ['accuracy'])"
      ]
    },
    {
      "cell_type": "markdown",
      "metadata": {
        "id": "oayS4SBklCb_"
      },
      "source": [
        "The use of the binary crossentropy loss function is because we only classify two classes, namely cats and dogs."
      ]
    },
    {
      "cell_type": "markdown",
      "metadata": {
        "id": "ikRCkg9llCVV"
      },
      "source": [
        "### Step 4 - Train CNN Model"
      ]
    },
    {
      "cell_type": "code",
      "execution_count": 18,
      "metadata": {
        "colab": {
          "base_uri": "https://localhost:8080/"
        },
        "id": "rINA5zH5lBGn",
        "outputId": "c478baed-62d7-44ca-e52e-240377cb8e5f"
      },
      "outputs": [
        {
          "output_type": "stream",
          "name": "stdout",
          "text": [
            "Epoch 1/25\n",
            "250/250 [==============================] - 44s 176ms/step - loss: 0.2096 - accuracy: 0.9159 - val_loss: 0.5424 - val_accuracy: 0.8000\n",
            "Epoch 2/25\n",
            "250/250 [==============================] - 37s 147ms/step - loss: 0.2046 - accuracy: 0.9153 - val_loss: 0.4998 - val_accuracy: 0.8100\n",
            "Epoch 3/25\n",
            "250/250 [==============================] - 37s 147ms/step - loss: 0.1959 - accuracy: 0.9208 - val_loss: 0.5190 - val_accuracy: 0.8040\n",
            "Epoch 4/25\n",
            "250/250 [==============================] - 36s 146ms/step - loss: 0.1770 - accuracy: 0.9294 - val_loss: 0.5522 - val_accuracy: 0.8015\n",
            "Epoch 5/25\n",
            "250/250 [==============================] - 36s 145ms/step - loss: 0.1830 - accuracy: 0.9261 - val_loss: 0.5617 - val_accuracy: 0.8060\n",
            "Epoch 6/25\n",
            "250/250 [==============================] - 36s 142ms/step - loss: 0.1730 - accuracy: 0.9279 - val_loss: 0.5750 - val_accuracy: 0.7935\n",
            "Epoch 7/25\n",
            "250/250 [==============================] - 36s 145ms/step - loss: 0.1473 - accuracy: 0.9421 - val_loss: 0.6470 - val_accuracy: 0.7930\n",
            "Epoch 8/25\n",
            "250/250 [==============================] - 36s 145ms/step - loss: 0.1500 - accuracy: 0.9391 - val_loss: 0.6586 - val_accuracy: 0.7890\n",
            "Epoch 9/25\n",
            "250/250 [==============================] - 36s 143ms/step - loss: 0.1414 - accuracy: 0.9424 - val_loss: 0.6277 - val_accuracy: 0.8085\n",
            "Epoch 10/25\n",
            "250/250 [==============================] - 36s 144ms/step - loss: 0.1363 - accuracy: 0.9470 - val_loss: 0.6076 - val_accuracy: 0.8085\n",
            "Epoch 11/25\n",
            "250/250 [==============================] - 36s 143ms/step - loss: 0.1339 - accuracy: 0.9499 - val_loss: 0.6510 - val_accuracy: 0.8005\n",
            "Epoch 12/25\n",
            "250/250 [==============================] - 36s 143ms/step - loss: 0.1184 - accuracy: 0.9566 - val_loss: 0.6766 - val_accuracy: 0.8035\n",
            "Epoch 13/25\n",
            "250/250 [==============================] - 41s 166ms/step - loss: 0.1203 - accuracy: 0.9535 - val_loss: 0.7067 - val_accuracy: 0.7925\n",
            "Epoch 14/25\n",
            "250/250 [==============================] - 36s 144ms/step - loss: 0.1096 - accuracy: 0.9599 - val_loss: 0.6769 - val_accuracy: 0.7875\n",
            "Epoch 15/25\n",
            "250/250 [==============================] - 36s 145ms/step - loss: 0.1176 - accuracy: 0.9557 - val_loss: 0.8012 - val_accuracy: 0.7835\n",
            "Epoch 16/25\n",
            "250/250 [==============================] - 36s 146ms/step - loss: 0.1135 - accuracy: 0.9570 - val_loss: 0.6923 - val_accuracy: 0.7950\n",
            "Epoch 17/25\n",
            "250/250 [==============================] - 37s 146ms/step - loss: 0.0971 - accuracy: 0.9625 - val_loss: 0.8231 - val_accuracy: 0.7920\n",
            "Epoch 18/25\n",
            "250/250 [==============================] - 36s 146ms/step - loss: 0.0951 - accuracy: 0.9639 - val_loss: 0.7492 - val_accuracy: 0.8015\n",
            "Epoch 19/25\n",
            "250/250 [==============================] - 37s 146ms/step - loss: 0.0903 - accuracy: 0.9654 - val_loss: 0.7792 - val_accuracy: 0.7940\n",
            "Epoch 20/25\n",
            "250/250 [==============================] - 36s 145ms/step - loss: 0.0922 - accuracy: 0.9663 - val_loss: 0.7719 - val_accuracy: 0.7970\n",
            "Epoch 21/25\n",
            "250/250 [==============================] - 36s 144ms/step - loss: 0.0828 - accuracy: 0.9693 - val_loss: 0.8207 - val_accuracy: 0.8065\n",
            "Epoch 22/25\n",
            "250/250 [==============================] - 36s 145ms/step - loss: 0.0870 - accuracy: 0.9691 - val_loss: 0.7641 - val_accuracy: 0.8015\n",
            "Epoch 23/25\n",
            "250/250 [==============================] - 37s 147ms/step - loss: 0.0792 - accuracy: 0.9704 - val_loss: 0.8258 - val_accuracy: 0.7980\n",
            "Epoch 24/25\n",
            "250/250 [==============================] - 41s 165ms/step - loss: 0.0764 - accuracy: 0.9725 - val_loss: 0.8222 - val_accuracy: 0.8010\n",
            "Epoch 25/25\n",
            "250/250 [==============================] - 37s 149ms/step - loss: 0.0836 - accuracy: 0.9685 - val_loss: 0.9428 - val_accuracy: 0.7870\n"
          ]
        },
        {
          "output_type": "execute_result",
          "data": {
            "text/plain": [
              "<keras.src.callbacks.History at 0x78e500c60be0>"
            ]
          },
          "metadata": {},
          "execution_count": 18
        }
      ],
      "source": [
        "cnn.fit(x = training_set, validation_data = test_set, epochs = 25)"
      ]
    },
    {
      "cell_type": "markdown",
      "source": [
        "### Step 5 - Perform Single Prediction"
      ],
      "metadata": {
        "id": "o-SE5KpCC0P0"
      }
    },
    {
      "cell_type": "code",
      "execution_count": 20,
      "metadata": {
        "id": "O4kPy58alJv6",
        "colab": {
          "base_uri": "https://localhost:8080/"
        },
        "outputId": "32097cd6-1985-4f66-93d9-c093bcb6febe"
      },
      "outputs": [
        {
          "output_type": "stream",
          "name": "stdout",
          "text": [
            "1/1 [==============================] - 0s 142ms/step\n",
            "dog\n"
          ]
        }
      ],
      "source": [
        "import numpy as np\n",
        "from keras.preprocessing import image\n",
        "test_image = image.load_img('/content/drive/MyDrive/dataset/dataset/single_prediction/cat_or_dog_1.jpg', target_size = (64, 64))\n",
        "test_image = image.img_to_array(test_image)\n",
        "test_image = np.expand_dims(test_image, axis = 0)\n",
        "result = cnn.predict(test_image)\n",
        "training_set.class_indices\n",
        "if result[0][0] == 1:\n",
        "  prediction = 'dog'\n",
        "else:\n",
        "  prediction = 'cat'\n",
        "print(prediction)"
      ]
    }
  ],
  "metadata": {
    "accelerator": "GPU",
    "colab": {
      "provenance": [],
      "gpuType": "T4"
    },
    "kernelspec": {
      "display_name": "Python 3",
      "name": "python3"
    },
    "language_info": {
      "name": "python"
    }
  },
  "nbformat": 4,
  "nbformat_minor": 0
}